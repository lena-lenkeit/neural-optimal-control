{
 "cells": [
  {
   "cell_type": "code",
   "execution_count": null,
   "metadata": {},
   "outputs": [],
   "source": [
    "import jax\n",
    "\n",
    "jax.config.update(\"jax_enable_x64\", True)\n",
    "\n",
    "from typing import Tuple\n",
    "\n",
    "import jax.numpy as jnp\n",
    "import matplotlib.pyplot as plt\n",
    "from jaxtyping import Array\n",
    "\n",
    "import optimal_control.constraints as constraints\n",
    "import optimal_control.controls as controls\n",
    "import optimal_control.environments.examples as examples\n",
    "import optimal_control.solvers as solvers\n",
    "import optimal_control.trainers as trainers"
   ]
  },
  {
   "cell_type": "code",
   "execution_count": null,
   "metadata": {},
   "outputs": [],
   "source": [
    "# Training\n",
    "\n",
    "key = jax.random.PRNGKey(1234)\n",
    "\n",
    "environment = examples.ApoptosisEnvironment(\n",
    "    \"../data/Initial_concentrations_CD95H_wtH.mat\", [0, 500], 50\n",
    ")\n",
    "control = controls.InterpolationControl(1, 181, 0.0, 180.0)\n",
    "solver = solvers.DirectSolver()\n",
    "_constraints = [\n",
    "    constraints.NonNegativeConstantIntegralConstraint(jnp.asarray([2.5 * 181]))\n",
    "]\n",
    "\n",
    "def reward_fn(args: Tuple[Array, Array]):\n",
    "    ys, thresh = args\n",
    "    reward = jnp.mean(jnp.clip(ys[..., 12] / (ys[..., 3] + ys[..., 12]), a_min=None, a_max=thresh.reshape(-1, 1)))\n",
    "    return reward\n",
    "\n",
    "rewards = reward_fn\n",
    "key = jax.random.PRNGKey(1234)\n",
    "\n",
    "reward, control = trainers.solve_optimal_control_problem(\n",
    "    environment, rewards, _constraints, solver, control, 1024, key\n",
    ")\n"
   ]
  },
  {
   "cell_type": "code",
   "execution_count": null,
   "metadata": {},
   "outputs": [],
   "source": [
    "state = environment.init()\n",
    "ys, thresh = environment.integrate(control, state, key)"
   ]
  },
  {
   "cell_type": "code",
   "execution_count": null,
   "metadata": {},
   "outputs": [],
   "source": [
    "state.x0[..., -1]"
   ]
  },
  {
   "cell_type": "code",
   "execution_count": null,
   "metadata": {},
   "outputs": [],
   "source": [
    "frac = ys[..., 12] / (ys[..., 3] + ys[..., 12])\n",
    "#thresh = state.x0[..., -1] * 1.4897\n",
    "\n",
    "plt.figure()\n",
    "for t in thresh:\n",
    "    plt.axhline(t, c=\"black\")\n",
    "plt.plot(frac.T)\n",
    "plt.show()\n",
    "\n",
    "plt.figure()\n",
    "plt.plot(control.control)\n",
    "plt.show()"
   ]
  }
 ],
 "metadata": {
  "kernelspec": {
   "display_name": "python-optimal-control-env",
   "language": "python",
   "name": "python3"
  },
  "language_info": {
   "codemirror_mode": {
    "name": "ipython",
    "version": 3
   },
   "file_extension": ".py",
   "mimetype": "text/x-python",
   "name": "python",
   "nbconvert_exporter": "python",
   "pygments_lexer": "ipython3",
   "version": "3.8.10"
  },
  "orig_nbformat": 4
 },
 "nbformat": 4,
 "nbformat_minor": 2
}
