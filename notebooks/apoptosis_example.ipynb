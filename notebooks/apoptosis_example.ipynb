{
 "cells": [
  {
   "cell_type": "code",
   "execution_count": null,
   "metadata": {},
   "outputs": [],
   "source": [
    "import jax\n",
    "\n",
    "jax.config.update(\"jax_enable_x64\", True)\n",
    "\n",
    "from typing import Tuple\n",
    "\n",
    "import equinox as eqx\n",
    "import jax.numpy as jnp\n",
    "import matplotlib.pyplot as plt\n",
    "from jaxtyping import Array\n",
    "\n",
    "import optimal_control.constraints as constraints\n",
    "import optimal_control.controls as controls\n",
    "import optimal_control.environments.examples as examples\n",
    "import optimal_control.solvers as solvers\n",
    "import optimal_control.trainers as trainers"
   ]
  },
  {
   "cell_type": "code",
   "execution_count": null,
   "metadata": {},
   "outputs": [],
   "source": [
    "environment = examples.ApoptosisEnvironment(\n",
    "    \"../data/Initial_concentrations_CD95H_wtH.mat\", [0, 500], 50\n",
    ")\n",
    "state = environment.init()\n",
    "control = controls.LambdaControl(lambda x: jnp.ones((2,)))\n",
    "key = jax.random.PRNGKey(1234)\n",
    "\n",
    "for i in range(5):\n",
    "    seq = environment.integrate(control, state, key)\n",
    "\n",
    "jit_integrate = eqx.filter_jit(environment.integrate)\n",
    "for i in range(5):\n",
    "    seq = jit_integrate(control, state, key)\n",
    "\n",
    "with jax.profiler.trace(\"/tmp/jax-trace\", create_perfetto_trace=True):\n",
    "    seq = environment.integrate(control, state, key)\n",
    "    jit_integrate(control, state, key)"
   ]
  },
  {
   "cell_type": "code",
   "execution_count": null,
   "metadata": {},
   "outputs": [],
   "source": [
    "# Training\n",
    "\n",
    "key = jax.random.PRNGKey(1234)\n",
    "\n",
    "environment = examples.ApoptosisEnvironment(\n",
    "    \"../data/Initial_concentrations_CD95H_wtH.mat\", [0, 500], 50\n",
    ")\n",
    "control = controls.InterpolationControl(1, 181, 0.0, 180.0)\n",
    "solver = solvers.DirectSolver()\n",
    "_constraints = [\n",
    "    constraints.NonNegativeConstantIntegralConstraint(jnp.asarray([25.0 * 181]))\n",
    "]\n",
    "\n",
    "\n",
    "def reward_fn(args: Tuple[Array, Array]):\n",
    "    ys, thresh = args\n",
    "    reward = jnp.mean(\n",
    "        jnp.clip(\n",
    "            ys[..., 12] / (ys[..., 3] + ys[..., 12]),\n",
    "            a_min=None,\n",
    "            a_max=thresh.reshape(-1, 1),\n",
    "        )\n",
    "    )\n",
    "    return reward\n",
    "\n",
    "\n",
    "rewards = reward_fn\n",
    "key = jax.random.PRNGKey(1234)\n",
    "\n",
    "jit_solve = eqx.filter_jit(trainers.solve_optimal_control_problem)\n",
    "reward, control = jit_solve(\n",
    "    environment, rewards, _constraints, solver, control, 1024, key\n",
    ")\n"
   ]
  },
  {
   "cell_type": "code",
   "execution_count": null,
   "metadata": {},
   "outputs": [],
   "source": [
    "state = environment.init()\n",
    "ys, thresh = environment.integrate(control, state, key)"
   ]
  },
  {
   "cell_type": "code",
   "execution_count": null,
   "metadata": {},
   "outputs": [],
   "source": [
    "state.x0[..., -1]"
   ]
  },
  {
   "cell_type": "code",
   "execution_count": null,
   "metadata": {},
   "outputs": [],
   "source": [
    "frac = ys[..., 12] / (ys[..., 3] + ys[..., 12])\n",
    "#thresh = state.x0[..., -1] * 1.4897\n",
    "\n",
    "plt.figure()\n",
    "for t in thresh:\n",
    "    plt.axhline(t, c=\"black\")\n",
    "plt.plot(frac.T)\n",
    "plt.show()\n",
    "\n",
    "plt.figure()\n",
    "plt.plot(control.control)\n",
    "plt.show()"
   ]
  }
 ],
 "metadata": {
  "kernelspec": {
   "display_name": "python-optimal-control-env",
   "language": "python",
   "name": "python3"
  },
  "language_info": {
   "codemirror_mode": {
    "name": "ipython",
    "version": 3
   },
   "file_extension": ".py",
   "mimetype": "text/x-python",
   "name": "python",
   "nbconvert_exporter": "python",
   "pygments_lexer": "ipython3",
   "version": "3.8.10"
  },
  "orig_nbformat": 4
 },
 "nbformat": 4,
 "nbformat_minor": 2
}
