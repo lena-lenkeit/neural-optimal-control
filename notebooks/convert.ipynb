{
 "cells": [
  {
   "cell_type": "code",
   "execution_count": 2,
   "metadata": {},
   "outputs": [],
   "source": [
    "import optimal_control.convert as convert"
   ]
  },
  {
   "cell_type": "code",
   "execution_count": 4,
   "metadata": {},
   "outputs": [
    {
     "name": "stdout",
     "output_type": "stream",
     "text": [
      "dx = [None]*10\n",
      "\n",
      "## ODE:\n",
      "dx[0] = -k[0]*x[0]-(k[1]*u(2)/(k[2]+u(2))*x[0]/(k[3]+x[0]))+k[10]*x[1]*x[3]+k[11]*x[1] # eIF2a\n",
      "dx[1] = k[0]*x[0]+(k[1]*u(2)/(k[2]+u(2))*x[0]/(k[3]+x[0]))-k[10]*x[1]*x[3]-k[11]*x[1] # p_eIF2a\n",
      "dx[2] = k[6]*x[9]-(k[7]*x[2]) # m_GADD34\n",
      "dx[3] = k[8]*x[2]-(k[9]*x[3]) # GADD34\n",
      "dx[4] = -k[12]*x[4]*a(1)+(k[13]*x[9]) # Pr_tot\n",
      "dx[5] = k[12]*x[4]*a(1)-(k[12]*x[5]) # Pr_delay_1\n",
      "dx[6] = k[12]*x[5]-(k[12]*x[6]) # Pr_delay_2\n",
      "dx[7] = k[12]*x[6]-(k[12]*x[7]) # Pr_delay_3\n",
      "dx[8] = k[12]*x[7]-(k[12]*x[8]) # Pr_delay_4\n",
      "dx[9] = k[12]*x[8]-(k[13]*x[9]) # Pr_delay_5\n",
      "\n",
      "return dx\n"
     ]
    }
   ],
   "source": [
    "code = r\"\"\"\n",
    "%% ODE:\n",
    "dx( 1) = -k(1)*x(1)-(k(2)*u(2)/(k(3)+u(2))*x(1)/(k(4)+x(1)))+k(11)*x(2)*x(4)+k(12)*x(2); % eIF2a\n",
    "dx( 2) = k(1)*x(1)+(k(2)*u(2)/(k(3)+u(2))*x(1)/(k(4)+x(1)))-k(11)*x(2)*x(4)-k(12)*x(2); % p_eIF2a\n",
    "dx( 3) = k(7)*x(10)-(k(8)*x(3)); % m_GADD34\n",
    "dx( 4) = k(9)*x(3)-(k(10)*x(4)); % GADD34\n",
    "dx( 5) = -k(13)*x(5)*a(1)+(k(14)*x(10)); % Pr_tot\n",
    "dx( 6) = k(13)*x(5)*a(1)-(k(13)*x(6)); % Pr_delay_1\n",
    "dx( 7) = k(13)*x(6)-(k(13)*x(7)); % Pr_delay_2\n",
    "dx( 8) = k(13)*x(7)-(k(13)*x(8)); % Pr_delay_3\n",
    "dx( 9) = k(13)*x(8)-(k(13)*x(9)); % Pr_delay_4\n",
    "dx(10) = k(13)*x(9)-(k(14)*x(10)); % Pr_delay_5\n",
    "\"\"\"\n",
    "\n",
    "print(convert.ode_matlab_to_jax(code, 10))"
   ]
  },
  {
   "cell_type": "code",
   "execution_count": null,
   "metadata": {},
   "outputs": [],
   "source": [
    "code = r\"\"\"\n",
    "k(  1) =        8.12e-4; % kon,FADD\n",
    "k(  2) =        0.00567; % koff,FADD\n",
    "k(  3) =        0.000492; % kon,p55\n",
    "k(  4) =        0.0114; % kcl,D216\n",
    "k(  5) =        4.47e-4; % kcl,D374,trans,p55\n",
    "k(  6) =        0.00344; % kcl,D374,trans,p43\n",
    "k(  7) =        0.0950; % kp18,inactive\n",
    "k(  8) =        0.000529; % kcl,BID\n",
    "k(  9) =        0.00152; % kcl,probe\n",
    "k( 10) =        8.98; % KD,R\n",
    "k( 11) =        15.4; % KD,L\n",
    "\"\"\"\n",
    "\n",
    "print(convert.constants_matlab_to_jax(code, 11))"
   ]
  }
 ],
 "metadata": {
  "kernelspec": {
   "display_name": "python-optimal-control-env",
   "language": "python",
   "name": "python3"
  },
  "language_info": {
   "codemirror_mode": {
    "name": "ipython",
    "version": 3
   },
   "file_extension": ".py",
   "mimetype": "text/x-python",
   "name": "python",
   "nbconvert_exporter": "python",
   "pygments_lexer": "ipython3",
   "version": "3.8.10"
  },
  "orig_nbformat": 4
 },
 "nbformat": 4,
 "nbformat_minor": 2
}
