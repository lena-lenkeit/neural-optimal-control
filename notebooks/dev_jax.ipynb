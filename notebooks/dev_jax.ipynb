{
 "cells": [
  {
   "cell_type": "code",
   "execution_count": null,
   "metadata": {},
   "outputs": [],
   "source": [
    "from typing import Dict, List\n",
    "\n",
    "import jax\n",
    "import jax.numpy as jnp\n",
    "import matplotlib.pyplot as plt\n",
    "from jax.experimental.ode import odeint"
   ]
  },
  {
   "cell_type": "code",
   "execution_count": null,
   "metadata": {},
   "outputs": [],
   "source": [
    "def k_helper(t):\n",
    "    k = [None] * 14\n",
    "\n",
    "    k[0] = 0.9  # proliferation rates: lambda1=0.9/day,\n",
    "    k[1] = 0.8  # lambda2=0.8/day\n",
    "    k[2] = 0.3  # mu_1, mu_2, death rates: 0.3/day\n",
    "    k[3] = 1e6  # carrying capacity: 10^6 cells\n",
    "    k[4] = 2  # growth factor degradation: gamma=2/day\n",
    "    k[5] = (\n",
    "        240 * 1440\n",
    "    )  # growth factor secretion rates: beta3=240 molecules/cell/min  ---- beta_3\n",
    "    k[6] = (\n",
    "        470 * 1440\n",
    "    )  # beta1=470 molecules/cell/min                                ---- beta_1\n",
    "    k[7] = (\n",
    "        70 * 1440\n",
    "    )  # beta2=70 molecules/cell/min                                 ---- beta_2\n",
    "    k[8] = (\n",
    "        940 * 1440\n",
    "    )  # alpha1=940 molecules/cell/min, endocytosis rate CSF1       ---- alpha_1\n",
    "    k[9] = (\n",
    "        510 * 1440\n",
    "    )  # alpha2=510 molecules/cell/min, endocytosis rate PDGF     ---- alpha_2\n",
    "    k[10] = 6e8  # #binding affinities: k1=6x10^8 molecules (PDGF)     ---- k_1\n",
    "    k[11] = 6e8  # k2=6x10^8 (CSF)                                   ---- k_2\n",
    "    k[12] = 140 * 1440 if t < 4.0 else 0  # 120 inflammation pulse\n",
    "    k[13] = 1e6\n",
    "\n",
    "    return k\n",
    "\n",
    "@jax.jit\n",
    "def ode(x, t):\n",
    "    k = [None] * 14\n",
    "\n",
    "    k[0] = 0.9  # proliferation rates: lambda1=0.9/day,\n",
    "    k[1] = 0.8  # lambda2=0.8/day\n",
    "    k[2] = 0.3  # mu_1, mu_2, death rates: 0.3/day\n",
    "    k[3] = 1e6  # carrying capacity: 10^6 cells\n",
    "    k[4] = 2  # growth factor degradation: gamma=2/day\n",
    "    k[5] = (\n",
    "        240 * 1440\n",
    "    )  # growth factor secretion rates: beta3=240 molecules/cell/min  ---- beta_3\n",
    "    k[6] = (\n",
    "        470 * 1440\n",
    "    )  # beta1=470 molecules/cell/min                                ---- beta_1\n",
    "    k[7] = (\n",
    "        70 * 1440\n",
    "    )  # beta2=70 molecules/cell/min                                 ---- beta_2\n",
    "    k[8] = (\n",
    "        940 * 1440\n",
    "    )  # alpha1=940 molecules/cell/min, endocytosis rate CSF1       ---- alpha_1\n",
    "    k[9] = (\n",
    "        510 * 1440\n",
    "    )  # alpha2=510 molecules/cell/min, endocytosis rate PDGF     ---- alpha_2\n",
    "    k[10] = 6e8  # #binding affinities: k1=6x10^8 molecules (PDGF)     ---- k_1\n",
    "    k[11] = 6e8  # k2=6x10^8 (CSF)                                   ---- k_2\n",
    "    k[12] = jnp.where(t < 4, 140 * 1440, 0)  # 120 inflammation pulse\n",
    "    k[13] = 1e6\n",
    "\n",
    "    dx0 = x[0] * (k[0] * x[3] / (k[10] + x[3]) * (1 - x[0] / k[3]) - k[2])  # Fibrobasts\n",
    "    dx1 = x[1] * (k[1] * x[2] / (k[11] + x[2]) - k[2]) + k[12]  # Mph\n",
    "    dx2 = k[6] * x[0] - k[8] * x[1] * x[2] / (k[11] + x[2]) - k[4] * x[2]  # CSF\n",
    "    dx3 = (\n",
    "        k[7] * x[1] + k[5] * x[0] - k[9] * x[0] * x[3] / (k[10] + x[3]) - k[4] * x[3]\n",
    "    )  # PDGF\n",
    "\n",
    "    return dx0, dx1, dx2, dx3\n"
   ]
  },
  {
   "cell_type": "code",
   "execution_count": null,
   "metadata": {},
   "outputs": [],
   "source": [
    "t = jnp.linspace(0.0, 300.0, 300)\n",
    "y = odeint(ode, jnp.asarray([1.0, 1.0, 0.0, 0.0]), t)"
   ]
  },
  {
   "cell_type": "code",
   "execution_count": null,
   "metadata": {},
   "outputs": [],
   "source": [
    "for i in range(4):\n",
    "    plt.figure()\n",
    "    plt.yscale(\"log\")\n",
    "    plt.plot(t, y[..., i])\n",
    "    plt.show()"
   ]
  }
 ],
 "metadata": {
  "kernelspec": {
   "display_name": "python-optimal-control-env",
   "language": "python",
   "name": "python3"
  },
  "language_info": {
   "codemirror_mode": {
    "name": "ipython",
    "version": 3
   },
   "file_extension": ".py",
   "mimetype": "text/x-python",
   "name": "python",
   "nbconvert_exporter": "python",
   "pygments_lexer": "ipython3",
   "version": "3.8.10"
  },
  "orig_nbformat": 4
 },
 "nbformat": 4,
 "nbformat_minor": 2
}
