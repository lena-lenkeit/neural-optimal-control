{
 "cells": [
  {
   "cell_type": "code",
   "execution_count": null,
   "metadata": {},
   "outputs": [],
   "source": [
    "import jax\n",
    "\n",
    "jax.config.update(\"jax_enable_x64\", True)\n",
    "\n",
    "from typing import Callable\n",
    "\n",
    "import diffrax\n",
    "import equinox as eqx\n",
    "import jax.numpy as jnp\n",
    "import matplotlib.pyplot as plt\n",
    "import numpy as np\n",
    "from jaxtyping import Array, ArrayLike\n",
    "from tqdm.auto import tqdm as tq\n",
    "from tqdm.auto import trange\n",
    "\n",
    "import optimal_control.constraints as constraints\n",
    "import optimal_control.controls as controls\n",
    "import optimal_control.environments as environments\n",
    "import optimal_control.environments.examples as examples\n",
    "import optimal_control.solvers as solvers\n",
    "import optimal_control.trainers as trainers\n"
   ]
  },
  {
   "cell_type": "code",
   "execution_count": null,
   "metadata": {},
   "outputs": [],
   "source": [
    "environment = examples.FibrosisEnvironment()\n",
    "state = environment.init()\n",
    "\n",
    "control = controls.LambdaControl(lambda x: jnp.ones((2,)))\n",
    "seq = environment.integrate(control, state)\n"
   ]
  },
  {
   "cell_type": "code",
   "execution_count": null,
   "metadata": {},
   "outputs": [],
   "source": [
    "def train_with_integral(integral: ArrayLike):\n",
    "    environment = examples.FibrosisEnvironment()\n",
    "    control = controls.InterpolationControl(\n",
    "        2, 101, 0.0, 100.0, control=jnp.ones((101, 2))\n",
    "    )\n",
    "    _constraints = [constraints.NonNegativeConstantIntegralConstraint(integral)]\n",
    "    solver = solvers.DirectSolver()\n",
    "    rewards = lambda x: -jnp.mean(jnp.log(x[..., :2]))\n",
    "    key = jax.random.PRNGKey(1234)\n",
    "\n",
    "    reward, control = trainers.solve_optimal_control_problem(\n",
    "        environment, rewards, _constraints, solver, control, 128, key\n",
    "    )\n",
    "\n",
    "    return reward, control.control\n",
    "\n",
    "\n",
    "batched_train_with_integral = jax.vmap(\n",
    "    train_with_integral, in_axes=(0,), out_axes=(0, 0)\n",
    ")"
   ]
  },
  {
   "cell_type": "code",
   "execution_count": null,
   "metadata": {},
   "outputs": [],
   "source": [
    "reward_fn = lambda x: -jnp.mean(jnp.log(x[..., :2]))"
   ]
  },
  {
   "cell_type": "code",
   "execution_count": null,
   "metadata": {},
   "outputs": [],
   "source": [
    "concentrations = 10 ** jnp.linspace(-2, 1, 10)\n",
    "integrals = (\n",
    "    jnp.stack(jnp.meshgrid(concentrations, concentrations), axis=-1).reshape(-1, 2)\n",
    "    * 101\n",
    ")\n",
    "\n",
    "rewards, _controls = batched_train_with_integral(integrals)"
   ]
  },
  {
   "cell_type": "code",
   "execution_count": null,
   "metadata": {},
   "outputs": [],
   "source": [
    "def get_trajectory(\n",
    "    environment: environments.AbstractEnvironment,\n",
    "    state: environments.EnvironmentState,\n",
    "    control: controls.AbstractControl,\n",
    "    key: jax.random.KeyArray,\n",
    ") -> Array:\n",
    "    trajectory = environment.integrate(control, state, key)\n",
    "    return trajectory\n",
    "\n",
    "def is_treatment_successfull(final_state: Array) -> ArrayLike:\n",
    "    return jnp.where(jnp.sum(jnp.abs(final_state[..., :2]), axis=-1) < 1e-1, 1.0, 0.0)"
   ]
  },
  {
   "cell_type": "code",
   "execution_count": null,
   "metadata": {},
   "outputs": [],
   "source": [
    "# Trajectories of optimized controls\n",
    "\n",
    "environment = examples.FibrosisEnvironment()\n",
    "state = environment.init()\n",
    "key = jax.random.PRNGKey(1234)\n",
    "\n",
    "\n",
    "optimal_trajectories = []\n",
    "optimal_rewards = []\n",
    "for i in trange(_controls.shape[0]):\n",
    "    control = controls.InterpolationControl(2, 101, 0.0, 100.0, control=_controls[i])\n",
    "    \n",
    "    trajectory = get_trajectory(environment, state, control, key)\n",
    "    reward = reward_fn(trajectory)\n",
    "\n",
    "    optimal_trajectories.append(trajectory)\n",
    "    optimal_rewards.append(reward)\n"
   ]
  },
  {
   "cell_type": "code",
   "execution_count": null,
   "metadata": {},
   "outputs": [],
   "source": [
    "# Trajectories of constant controls\n",
    "\n",
    "environment = examples.FibrosisEnvironment()\n",
    "state = environment.init()\n",
    "key = jax.random.PRNGKey(1234)\n",
    "\n",
    "\n",
    "constant_trajectories = []\n",
    "constant_rewards = []\n",
    "for i in trange(_controls.shape[0]):\n",
    "    constraint = constraints.NonNegativeConstantIntegralConstraint(integrals[i])\n",
    "    control_signal = constraint.project(jnp.ones((101, 2)))\n",
    "    control = controls.InterpolationControl(2, 101, 0.0, 100.0, control=control_signal)\n",
    "\n",
    "    trajectory = get_trajectory(environment, state, control, key)\n",
    "    reward = reward_fn(trajectory)\n",
    "\n",
    "    constant_trajectories.append(trajectory)\n",
    "    constant_rewards.append(reward)\n"
   ]
  },
  {
   "cell_type": "code",
   "execution_count": null,
   "metadata": {},
   "outputs": [],
   "source": [
    "# Seperatrix trajectories\n",
    "\n",
    "control = controls.LambdaControl(lambda _: jnp.zeros((2,)))\n",
    "environment = examples.FibrosisEnvironment()\n",
    "key = jax.random.PRNGKey(1234)\n",
    "\n",
    "y0s = 10 ** jnp.linspace(0, 7, 100)\n",
    "\n",
    "lambda1 = 0.9\n",
    "lambda2 = 0.8\n",
    "mu1 = 0.3\n",
    "mu2 = 0.3\n",
    "K = 1e6\n",
    "gamma = 2\n",
    "beta3 = 240 * 1440\n",
    "beta1 = 470 * 1440\n",
    "beta2 = 70 * 1440\n",
    "alpha1 = 940 * 1440\n",
    "alpha2 = 510 * 1440\n",
    "k1 = 6 * 1e8\n",
    "k2 = 6 * 1e8\n",
    "\n",
    "seperatrix_trajectories = []\n",
    "for i in trange(100):\n",
    "    for j in range(100):\n",
    "        M = y0s[i]\n",
    "        F = y0s[j]\n",
    "\n",
    "        C = -0.5 * (alpha1 / gamma * M + k2 - beta1 / gamma * F) + jnp.sqrt(\n",
    "            0.25 * (alpha1 / gamma * M + k2 - beta1 / gamma * F) ** 2\n",
    "            + beta1 * k2 / gamma * F\n",
    "        )\n",
    "        P = 0.5 * (beta2 / gamma * M + (beta3 - alpha2) / gamma * F - k1) + jnp.sqrt(\n",
    "            0.25 * (k1 - beta2 / gamma * M - (beta3 - alpha2) / gamma * F) ** 2\n",
    "            + (beta2 * M + beta3 * F) * k1 / gamma\n",
    "        )\n",
    "\n",
    "        y0 = jnp.stack((F, M, C, P), axis=-1)\n",
    "\n",
    "        trajectory = environment._integrate(\n",
    "            0.0, 300.0, y0, control, False, diffrax.SaveAt(t1=True)\n",
    "        ).ys[-1]\n",
    "\n",
    "        seperatrix_trajectories.append(trajectory)\n"
   ]
  },
  {
   "cell_type": "code",
   "execution_count": null,
   "metadata": {},
   "outputs": [],
   "source": [
    "# Just load it\n",
    "\n",
    "import scipy.io\n",
    "\n",
    "seperatrix_array = scipy.io.loadmat(\"../data/Separatrix_array_F06_M07.mat\")"
   ]
  },
  {
   "cell_type": "code",
   "execution_count": null,
   "metadata": {},
   "outputs": [],
   "source": [
    "seperatrix_array"
   ]
  },
  {
   "cell_type": "code",
   "execution_count": null,
   "metadata": {},
   "outputs": [],
   "source": [
    "def plt_reward_grid(plt_rewards, x, y):\n",
    "    with plt.style.context(\"seaborn-paper\"):  \n",
    "        plt.figure(figsize=(5,5))\n",
    "        plt.xlabel(\"aPDGF int.\")\n",
    "        plt.ylabel(\"aCSF1 int.\")\n",
    "        plt.imshow(plt_rewards.reshape(x, y), extent=(0.1, 2.0, 0.1, 2.0), origin=\"lower\", aspect=\"equal\", cmap=\"inferno\")\n",
    "        plt.colorbar(fraction=0.0457, pad=0.04, label=\"Reward\")\n",
    "        #plt.savefig(\"../figures/fibrosis_opt_reward.png\", bbox_inches=\"tight\")\n",
    "        #plt.savefig(\"../figures/fibrosis_opt_reward.svg\", bbox_inches=\"tight\")\n",
    "        plt.show()"
   ]
  },
  {
   "cell_type": "code",
   "execution_count": null,
   "metadata": {},
   "outputs": [],
   "source": [
    "# Plot optimal reward grid\n",
    "\n",
    "plt_reward_grid(jnp.stack(optimal_rewards, axis=0))\n",
    "plt_reward_grid(is_treatment_successfull(jnp.stack(optimal_trajectories, axis=0)[:, -1]))"
   ]
  },
  {
   "cell_type": "code",
   "execution_count": null,
   "metadata": {},
   "outputs": [],
   "source": [
    "# Plot constant reward grid\n",
    "\n",
    "plt_reward_grid(jnp.stack(constant_rewards, axis=0))\n",
    "plt_reward_grid(is_treatment_successfull(jnp.stack(constant_trajectories, axis=0)[:, -1]))"
   ]
  },
  {
   "cell_type": "code",
   "execution_count": null,
   "metadata": {},
   "outputs": [],
   "source": [
    "# Plot difference reward grid\n",
    "\n",
    "plt_reward_grid(jnp.stack(optimal_rewards, axis=0) - jnp.stack(constant_rewards, axis=0))"
   ]
  },
  {
   "cell_type": "code",
   "execution_count": null,
   "metadata": {},
   "outputs": [],
   "source": [
    "# Plot seperatrix\n",
    "\n",
    "with plt.style.context(\"seaborn-paper\"):\n",
    "    x = np.logspace(seperatrix_array[\"lims_F\"][0, 0], seperatrix_array[\"lims_F\"][0, 1], seperatrix_array[\"tsteps\"][0,0])\n",
    "    y = np.logspace(seperatrix_array[\"lims_M\"][0, 0], seperatrix_array[\"lims_M\"][0, 1], seperatrix_array[\"tsteps\"][0,0])\n",
    "\n",
    "    plt.figure(figsize=(5,5))\n",
    "    plt.xlabel(\"F\")\n",
    "    plt.ylabel(\"M\")\n",
    "    plt.xscale(\"log\")\n",
    "    plt.yscale(\"log\")\n",
    "    plt.pcolor(x, y, 1 - seperatrix_array[\"S\"], cmap=\"Greys\", vmin=0.0, vmax=3.0)\n",
    "    plt.show()"
   ]
  },
  {
   "cell_type": "code",
   "execution_count": null,
   "metadata": {},
   "outputs": [],
   "source": [
    "seperatrix_trajectories[0]"
   ]
  },
  {
   "cell_type": "code",
   "execution_count": null,
   "metadata": {},
   "outputs": [],
   "source": [
    "is_treatment_successfull(jnp.stack(seperatrix_trajectories, axis=0))"
   ]
  },
  {
   "cell_type": "code",
   "execution_count": null,
   "metadata": {},
   "outputs": [],
   "source": [
    "# Plot dosage curve grid\n",
    "\n",
    "with plt.style.context(\"seaborn-paper\"):\n",
    "    fig, ax = plt.subplots(10, 10, figsize=(10, 10), sharex=True, sharey=True)\n",
    "    for i in range(10):\n",
    "        for j in range(10):\n",
    "            ax[i, j].plot(_controls[(9 - i)*10+j])\n",
    "    #ax_outer = plt.axes([0.1,0.1,2.0,2.0], facecolor=(1,1,1,0))\n",
    "\n",
    "    #plt.savefig(\"../figures/fibrosis_opt_traj.png\", bbox_inches=\"tight\")\n",
    "    #plt.savefig(\"../figures/fibrosis_opt_traj.svg\", bbox_inches=\"tight\")\n",
    "    plt.show()"
   ]
  },
  {
   "cell_type": "code",
   "execution_count": null,
   "metadata": {},
   "outputs": [],
   "source": [
    "# Plot MF trajectories\n",
    "\n",
    "with plt.style.context(\"seaborn-paper\"):\n",
    "    fig, ax = plt.subplots(10, 10, figsize=(10, 10), sharex=True, sharey=True)\n",
    "    for i in range(10):\n",
    "        for j in range(10):\n",
    "            ax[i, j].set_xscale(\"log\")\n",
    "            ax[i, j].set_yscale(\"log\")\n",
    "            ax[i, j].plot(optimal_trajectories[(9 - i)*10+j][..., 0], optimal_trajectories[(9 - i)*10+j][..., 1])\n",
    "    #ax_outer = plt.axes([0.1,0.1,2.0,2.0], facecolor=(1,1,1,0))\n",
    "\n",
    "    #plt.savefig(\"../figures/fibrosis_opt_traj.png\", bbox_inches=\"tight\")\n",
    "    #plt.savefig(\"../figures/fibrosis_opt_traj.svg\", bbox_inches=\"tight\")\n",
    "    plt.show()"
   ]
  },
  {
   "cell_type": "code",
   "execution_count": null,
   "metadata": {},
   "outputs": [],
   "source": [
    "# Plot MF trajectories\n",
    "\n",
    "with plt.style.context(\"seaborn-paper\"):\n",
    "    x = np.logspace(seperatrix_array[\"lims_F\"][0, 0], seperatrix_array[\"lims_F\"][0, 1], seperatrix_array[\"tsteps\"][0,0])\n",
    "    y = np.logspace(seperatrix_array[\"lims_M\"][0, 0], seperatrix_array[\"lims_M\"][0, 1], seperatrix_array[\"tsteps\"][0,0])\n",
    "    \n",
    "    fig, ax = plt.subplots(10, 10, figsize=(10, 10), sharex=True, sharey=True)\n",
    "    for i in range(10):\n",
    "        for j in range(10):\n",
    "            ax[i, j].set_xscale(\"log\")\n",
    "            ax[i, j].set_yscale(\"log\")\n",
    "            #ax[i, j].set_xlabel(\"F\")\n",
    "            #ax[i, j].set_ylabel(\"M\")\n",
    "            ax[i, j].pcolor(x, y, 1 - seperatrix_array[\"S\"], cmap=\"Greys\", vmin=0.0, vmax=3.0)\n",
    "            ax[i, j].plot(constant_trajectories[(9 - i)*10+j][..., 0], constant_trajectories[(9 - i)*10+j][..., 1])\n",
    "\n",
    "    #ax_outer = plt.axes([0.1,0.1,2.0,2.0], facecolor=(1,1,1,0))\n",
    "\n",
    "    #plt.savefig(\"../figures/fibrosis_opt_traj.png\", bbox_inches=\"tight\")\n",
    "    #plt.savefig(\"../figures/fibrosis_opt_traj.svg\", bbox_inches=\"tight\")\n",
    "    plt.show()"
   ]
  }
 ],
 "metadata": {
  "kernelspec": {
   "display_name": "python-optimal-control-env",
   "language": "python",
   "name": "python3"
  },
  "language_info": {
   "codemirror_mode": {
    "name": "ipython",
    "version": 3
   },
   "file_extension": ".py",
   "mimetype": "text/x-python",
   "name": "python",
   "nbconvert_exporter": "python",
   "pygments_lexer": "ipython3",
   "version": "3.8.10"
  },
  "orig_nbformat": 4
 },
 "nbformat": 4,
 "nbformat_minor": 2
}
