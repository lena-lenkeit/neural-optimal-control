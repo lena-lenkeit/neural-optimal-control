{
 "cells": [
  {
   "cell_type": "code",
   "execution_count": null,
   "metadata": {},
   "outputs": [],
   "source": [
    "import jax\n",
    "\n",
    "jax.config.update(\"jax_enable_x64\", True)\n",
    "#jax.config.update(\"jax_check_tracer_leaks\", True)\n",
    "\n",
    "import equinox as eqx\n",
    "import jax.numpy as jnp\n",
    "import matplotlib.pyplot as plt\n",
    "\n",
    "import optimal_control.constraints as constraints\n",
    "import optimal_control.controls as controls\n",
    "import optimal_control.environments as environments\n",
    "import optimal_control.environments.examples as examples\n",
    "import optimal_control.solvers as solvers\n",
    "import optimal_control.trainers as trainers\n"
   ]
  },
  {
   "cell_type": "code",
   "execution_count": null,
   "metadata": {},
   "outputs": [],
   "source": [
    "# vmap test\n",
    "\n",
    "def f(x):\n",
    "    return jnp.dot(x, x**2), jnp.dot(x, -x)\n",
    "\n",
    "vf = jax.vmap(f, in_axes=(0,), out_axes=(0, 0))\n",
    "vf(jnp.arange(16).reshape(4, 4))"
   ]
  },
  {
   "cell_type": "code",
   "execution_count": null,
   "metadata": {},
   "outputs": [],
   "source": [
    "# Control test\n",
    "\n",
    "control = jnp.sin(\n",
    "    jnp.stack(\n",
    "        (jnp.linspace(0.0, 10.0, 100), jnp.linspace(0.0, 5.0, 100) + 0.33), axis=-1\n",
    "    )\n",
    ")\n",
    "t = jnp.linspace(-10.0, 120.0, 1000)\n",
    "\n",
    "linear_control = controls.InterpolationControl(2, 100, 0.0, 100.0, \"step\", control)\n",
    "\n",
    "control_signal = linear_control(t)\n",
    "\n",
    "plt.figure()\n",
    "plt.plot(t, control_signal)\n",
    "plt.show()\n"
   ]
  },
  {
   "cell_type": "code",
   "execution_count": null,
   "metadata": {},
   "outputs": [],
   "source": [
    "# Environment test\n",
    "\n",
    "environment = examples.FibrosisEnvironment()\n",
    "environment_state = environment.init()\n",
    "\n",
    "print(environment_state)\n",
    "\n",
    "control = controls.InterpolationControl(\n",
    "    2, 100, 0.0, 100.0, \"linear\", jnp.ones((100, 2))\n",
    ")\n",
    "sequence = environment.integrate(control, environment_state)\n",
    "\n",
    "print(sequence)\n"
   ]
  },
  {
   "cell_type": "code",
   "execution_count": null,
   "metadata": {},
   "outputs": [],
   "source": [
    "# Training test\n",
    "\n",
    "environment = examples.FibrosisEnvironment()\n",
    "control = controls.InterpolationControl(2, 101, 0.0, 100.0, control=jnp.ones((101, 2)))\n",
    "_constraints = [constraints.NonNegativeConstantIntegralConstraint(1.0 * 101)]\n",
    "solver = solvers.DirectSolver()\n",
    "rewards = lambda x: -jnp.mean(jnp.log(x[..., :2]))\n",
    "\n",
    "reward, control = trainers.solve_optimal_control_problem(\n",
    "    environment, rewards, _constraints, solver, control, 1024\n",
    ")\n"
   ]
  },
  {
   "cell_type": "code",
   "execution_count": null,
   "metadata": {},
   "outputs": [],
   "source": [
    "# Make grid\n",
    "\n",
    "from jaxtyping import ArrayLike\n",
    "\n",
    "def train_with_integral(integral: ArrayLike):\n",
    "    environment = examples.FibrosisEnvironment()\n",
    "    control = controls.InterpolationControl(2, 101, 0.0, 100.0, control=jnp.ones((101, 2)))\n",
    "    _constraints = [constraints.NonNegativeConstantIntegralConstraint(integral)]\n",
    "    solver = solvers.DirectSolver()\n",
    "    rewards = lambda x: -jnp.mean(jnp.log(x[..., :2]))\n",
    "\n",
    "    reward, control = trainers.solve_optimal_control_problem(\n",
    "        environment, rewards, _constraints, solver, control, 1024\n",
    "    )\n",
    "\n",
    "    return reward, control\n",
    "\n",
    "rewards = []\n",
    "_controls = []\n",
    "for i in jnp.linspace(0.1, 2.0, 10):\n",
    "    for j in jnp.linspace(0.1, 2.0, 10):\n",
    "        reward, control = train_with_integral(jnp.asarray([i, j]))\n",
    "        rewards.append(reward)\n",
    "        _controls.append(control)"
   ]
  },
  {
   "cell_type": "code",
   "execution_count": null,
   "metadata": {},
   "outputs": [],
   "source": [
    "# Batch training test\n",
    "\n",
    "from jaxtyping import ArrayLike\n",
    "\n",
    "def train_with_integral(integral: ArrayLike):\n",
    "    environment = examples.FibrosisEnvironment()\n",
    "    control = controls.InterpolationControl(2, 101, 0.0, 100.0, control=jnp.ones((101, 2)))\n",
    "    _constraints = [constraints.NonNegativeConstantIntegralConstraint(integral)]\n",
    "    solver = solvers.DirectSolver()\n",
    "    rewards = lambda x: -jnp.mean(jnp.log(x[..., :2]))\n",
    "\n",
    "    reward, control = trainers.solve_optimal_control_problem(\n",
    "        environment, rewards, _constraints, solver, control, 1024\n",
    "    )\n",
    "\n",
    "    return reward, control.control\n",
    "\n",
    "batched_train_with_integral = jax.vmap(train_with_integral, in_axes=(0,), out_axes=(0, 0))\n",
    "integrals = jnp.stack(jnp.meshgrid(jnp.linspace(0.1, 2.0, 10), jnp.linspace(0.1, 2.0, 10)), axis=-1).reshape(-1, 2) * 101\n",
    "rewards, _controls = batched_train_with_integral(integrals)"
   ]
  },
  {
   "cell_type": "code",
   "execution_count": null,
   "metadata": {},
   "outputs": [],
   "source": [
    "# Plot reward grid\n",
    "with plt.style.context(\"seaborn-paper\"):\n",
    "    plt.figure(figsize=(5,5))\n",
    "    plt.xlabel(\"aPDGF int.\")\n",
    "    plt.ylabel(\"aCSF1 int.\")\n",
    "    plt.imshow(rewards.reshape(10, 10), extent=(0.1, 2.0, 0.1, 2.0), origin=\"lower\", aspect=\"equal\", cmap=\"inferno\")\n",
    "    plt.colorbar(fraction=0.0457, pad=0.04, label=\"Reward\")\n",
    "    plt.savefig(\"../figures/fibrosis_opt_reward.png\", bbox_inches=\"tight\")\n",
    "    plt.savefig(\"../figures/fibrosis_opt_reward.svg\", bbox_inches=\"tight\")\n",
    "    plt.show()"
   ]
  },
  {
   "cell_type": "code",
   "execution_count": null,
   "metadata": {},
   "outputs": [],
   "source": [
    "# Plot dosage curve grid\n",
    "\n",
    "with plt.style.context(\"seaborn-paper\"):\n",
    "    fig, ax = plt.subplots(10, 10, figsize=(10, 10), sharex=True, sharey=True)\n",
    "    for i in range(10):\n",
    "        for j in range(10):\n",
    "            ax[i, j].plot(_controls[(9 - i)*10+j])\n",
    "    #ax_outer = plt.axes([0.1,0.1,2.0,2.0], facecolor=(1,1,1,0))\n",
    "\n",
    "    plt.savefig(\"../figures/fibrosis_opt_traj.png\", bbox_inches=\"tight\")\n",
    "    plt.savefig(\"../figures/fibrosis_opt_traj.svg\", bbox_inches=\"tight\")\n",
    "    plt.show()"
   ]
  },
  {
   "cell_type": "code",
   "execution_count": null,
   "metadata": {},
   "outputs": [],
   "source": [
    "control = controls.InterpolationControl(2, 101, 0.0, 100.0, control=_controls[-1])\n",
    "\n",
    "t = jnp.linspace(-10.0, 120.0, 1000)\n",
    "control_signal = control(t)\n",
    "\n",
    "plt.figure(figsize=(25, 5))\n",
    "plt.plot(t, control_signal)\n",
    "plt.show()\n"
   ]
  },
  {
   "cell_type": "code",
   "execution_count": null,
   "metadata": {},
   "outputs": [],
   "source": [
    "env_seq = environment.integrate(control, environment.init())\n",
    "\n",
    "plt.figure()\n",
    "plt.plot(jnp.linspace(0.0, 100.0, 101), env_seq)\n",
    "plt.show()\n"
   ]
  }
 ],
 "metadata": {
  "kernelspec": {
   "display_name": "python-optimal-control-env",
   "language": "python",
   "name": "python3"
  },
  "language_info": {
   "codemirror_mode": {
    "name": "ipython",
    "version": 3
   },
   "file_extension": ".py",
   "mimetype": "text/x-python",
   "name": "python",
   "nbconvert_exporter": "python",
   "pygments_lexer": "ipython3",
   "version": "3.8.10"
  },
  "orig_nbformat": 4
 },
 "nbformat": 4,
 "nbformat_minor": 2
}
