{
 "cells": [
  {
   "cell_type": "code",
   "execution_count": null,
   "metadata": {},
   "outputs": [],
   "source": [
    "import jax\n",
    "\n",
    "jax.config.update(\"jax_enable_x64\", True)\n",
    "\n",
    "import equinox as eqx\n",
    "import jax.numpy as jnp\n",
    "import matplotlib.pyplot as plt\n",
    "\n",
    "from optimal_control.environments.examples import FibrosisEnvironment\n",
    "from optimal_control.solvers import InterpolationControl\n"
   ]
  },
  {
   "cell_type": "code",
   "execution_count": null,
   "metadata": {},
   "outputs": [],
   "source": [
    "control = jnp.sin(\n",
    "    jnp.stack(\n",
    "        (jnp.linspace(0.0, 10.0, 100), jnp.linspace(0.0, 5.0, 100) + 0.33), axis=-1\n",
    "    )\n",
    ")\n",
    "t = jnp.linspace(-10.0, 120.0, 1000)\n",
    "\n",
    "linear_control = InterpolationControl(2, 100, 0.0, 100.0, \"step\", control)\n",
    "\n",
    "control_signal = linear_control(t)\n",
    "\n",
    "plt.figure()\n",
    "plt.plot(t, control_signal)\n",
    "plt.show()\n"
   ]
  },
  {
   "cell_type": "code",
   "execution_count": null,
   "metadata": {},
   "outputs": [],
   "source": [
    "environment = FibrosisEnvironment()\n",
    "environment_state = environment.init()\n",
    "\n",
    "print(environment_state)\n",
    "\n",
    "control = InterpolationControl(2, 100, 0.0, 100.0, \"linear\", jnp.ones((100, 2)))\n",
    "sequence = environment.integrate(control, environment_state)\n",
    "\n",
    "print(sequence)\n"
   ]
  }
 ],
 "metadata": {
  "kernelspec": {
   "display_name": "python-optimal-control-env",
   "language": "python",
   "name": "python3"
  },
  "language_info": {
   "codemirror_mode": {
    "name": "ipython",
    "version": 3
   },
   "file_extension": ".py",
   "mimetype": "text/x-python",
   "name": "python",
   "nbconvert_exporter": "python",
   "pygments_lexer": "ipython3",
   "version": "3.8.10"
  },
  "orig_nbformat": 4
 },
 "nbformat": 4,
 "nbformat_minor": 2
}
