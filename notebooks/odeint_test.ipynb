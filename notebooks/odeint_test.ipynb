{
 "cells": [
  {
   "cell_type": "code",
   "execution_count": 1,
   "metadata": {},
   "outputs": [],
   "source": [
    "import sympy\n",
    "import numpy as np\n",
    "\n",
    "sympy.init_printing()"
   ]
  },
  {
   "attachments": {},
   "cell_type": "markdown",
   "metadata": {},
   "source": [
    "# SymPy ODE adjoints"
   ]
  },
  {
   "attachments": {},
   "cell_type": "markdown",
   "metadata": {},
   "source": [
    "## Define ODE"
   ]
  },
  {
   "cell_type": "code",
   "execution_count": 3,
   "metadata": {},
   "outputs": [],
   "source": [
    "# SymPy for efficient ODEs with adjoints\n",
    "\n",
    "\n",
    "def fibrosis_ode(t, y, u):\n",
    "    k = [None] * 14\n",
    "\n",
    "    k[0] = 0.9  # proliferation rates: lambda1=0.9/day,\n",
    "    k[1] = 0.8  # lambda2=0.8/day\n",
    "    k[2] = 0.3  # mu_1, mu_2, death rates: 0.3/day\n",
    "    k[3] = 1e6  # carrying capacity: 10^6 cells\n",
    "    k[4] = 2  # growth factor degradation: gamma=2/day\n",
    "    k[5] = (\n",
    "        240 * 1440\n",
    "    )  # growth factor secretion rates: beta3=240 molecules/cell/min  ---- beta_3\n",
    "    k[6] = (\n",
    "        470 * 1440\n",
    "    )  # beta1=470 molecules/cell/min                                ---- beta_1\n",
    "    k[7] = (\n",
    "        70 * 1440\n",
    "    )  # beta2=70 molecules/cell/min                                 ---- beta_2\n",
    "    k[8] = (\n",
    "        940 * 1440\n",
    "    )  # alpha1=940 molecules/cell/min, endocytosis rate CSF1       ---- alpha_1\n",
    "    k[9] = (\n",
    "        510 * 1440\n",
    "    )  # alpha2=510 molecules/cell/min, endocytosis rate PDGF     ---- alpha_2\n",
    "    k[10] = 6e8  # #binding affinities: k1=6x10^8 molecules (PDGF)     ---- k_1\n",
    "    k[11] = 6e8  # k2=6x10^8 (CSF)                                   ---- k_2\n",
    "    k[12] = 0\n",
    "    k[13] = 1e6\n",
    "\n",
    "    # PDGF antibody\n",
    "    k_pdfg_ab = 1 * 1440  # 1 / (min * molecule)\n",
    "    pdgf_ab_deg = -k_pdfg_ab * y[3] * u[0]\n",
    "\n",
    "    # CSF1 antibody\n",
    "    k_csf1_ab = 1 * 1440  # 1 / (min * molecule)\n",
    "    csf1_ab_deg = -k_csf1_ab * y[2] * u[1]\n",
    "\n",
    "    dx = [None] * 4\n",
    "\n",
    "    dx[0] = y[0] * (\n",
    "        k[0] * y[3] / (k[10] + y[3]) * (1 - y[0] / k[3]) - k[2]\n",
    "    )  # Fibrobasts\n",
    "    dx[1] = y[1] * (k[1] * y[2] / (k[11] + y[2]) - k[2]) + k[12]  # Mph\n",
    "    dx[2] = (\n",
    "        csf1_ab_deg + k[6] * y[0] - k[8] * y[1] * y[2] / (k[11] + y[2]) - k[4] * y[2]\n",
    "    )  # CSF\n",
    "    dx[3] = (\n",
    "        pdgf_ab_deg\n",
    "        + k[7] * y[1]\n",
    "        + k[5] * y[0]\n",
    "        - k[9] * y[0] * y[3] / (k[10] + y[3])\n",
    "        - k[4] * y[3]\n",
    "    )  # PDGF\n",
    "\n",
    "    return dx\n",
    "\n",
    "def harmonic_ode(t, y, u):\n",
    "    return y[1], -y[0] + u[0]"
   ]
  },
  {
   "attachments": {},
   "cell_type": "markdown",
   "metadata": {},
   "source": [
    "## Symbolic transformations"
   ]
  },
  {
   "cell_type": "code",
   "execution_count": null,
   "metadata": {},
   "outputs": [],
   "source": [
    "num_states = 4\n",
    "num_controls = 2\n",
    "\n",
    "y = sympy.IndexedBase(\"y\", shape=(num_states,), positive=True, real=True)\n",
    "a = sympy.IndexedBase(\"a\", shape=(num_states,), real=True)\n",
    "u = sympy.IndexedBase(\"u\", shape=(num_controls,), positive=True, real=True)\n",
    "\n",
    "y_vec = sympy.Matrix([y[i] for i in range(num_states)])\n",
    "a_vec = sympy.Matrix([a[i] for i in range(num_states)])\n",
    "u_vec = sympy.Matrix([u[i] for i in range(num_controls)])\n",
    "\n",
    "sympy_ode = sympy.Matrix(fibrosis_ode(None, y, u))\n",
    "sympy_ode_jacobian = sympy_ode.jacobian(y_vec)\n",
    "sympy_ode_grad = sympy_ode.jacobian(u_vec)\n",
    "\n",
    "sympy_da_dt = -a_vec.T * sympy_ode_jacobian\n",
    "sympy_dl_dudt = -a_vec.T * sympy_ode_grad"
   ]
  },
  {
   "cell_type": "code",
   "execution_count": null,
   "metadata": {},
   "outputs": [],
   "source": [
    "f = sympy.lambdify((y, u), sympy_ode, \"numpy\")"
   ]
  },
  {
   "cell_type": "code",
   "execution_count": null,
   "metadata": {},
   "outputs": [],
   "source": [
    "f(np.ones(4), np.zeros(2))"
   ]
  },
  {
   "cell_type": "code",
   "execution_count": null,
   "metadata": {},
   "outputs": [],
   "source": [
    "sympy_dl_du"
   ]
  },
  {
   "cell_type": "code",
   "execution_count": null,
   "metadata": {},
   "outputs": [],
   "source": [
    "sympy.cxxcode(sympy_da_dt[0])"
   ]
  },
  {
   "cell_type": "code",
   "execution_count": null,
   "metadata": {},
   "outputs": [],
   "source": [
    "sympy.cxxcode(sympy_dl_du[0])"
   ]
  },
  {
   "cell_type": "code",
   "execution_count": null,
   "metadata": {},
   "outputs": [],
   "source": [
    "def count_flops(expr, visual=False):\n",
    "    flops_table = {\"ADD\": 1, \"SUB\": 1, \"NEG\": 1, \"MUL\": 2, \"DIV\": 4, \"POW\": 4}\n",
    "\n",
    "    ops = sympy.count_ops(expr, visual=True)\n",
    "\n",
    "    flops = 0\n",
    "    for op in ops.args:\n",
    "        op = op.args\n",
    "\n",
    "        if len(op) == 1:\n",
    "            flops += flops_table[str(op[0])]\n",
    "        elif len(op) == 2:\n",
    "            flops += int(op[0]) * flops_table[str(op[1])]\n",
    "\n",
    "    return flops"
   ]
  },
  {
   "cell_type": "code",
   "execution_count": null,
   "metadata": {},
   "outputs": [],
   "source": [
    "print(count_flops(sympy_da_dt, visual=True))\n",
    "print(count_flops(sympy.simplify(sympy_da_dt, ratio=1.0, measure=count_flops)))"
   ]
  },
  {
   "attachments": {},
   "cell_type": "markdown",
   "metadata": {},
   "source": [
    "## Integration & gradients"
   ]
  },
  {
   "cell_type": "code",
   "execution_count": null,
   "metadata": {},
   "outputs": [],
   "source": [
    "#from pyodesys.native import native_sys\n",
    "#native = native_sys['odeint'].from_other(sys)\n",
    "#result = native.integrate(300.0, [1e6, 1e6, 0.0, 0.0], [0.0, 0.0])"
   ]
  },
  {
   "cell_type": "code",
   "execution_count": 4,
   "metadata": {},
   "outputs": [
    {
     "data": {
      "text/plain": [
       "'\\nbackward_y1 = []\\nbackward_y1.extend(forward_result.at(300.0)[0])  # ODE\\nbackward_y1.extend([1.0, 1.0, 0.0, 0.0])  # Adjoint\\nbackward_y1.extend([0.0, 0.0])  # Sensitivities\\n\\nbackward_result = backward_sys.integrate(\\n    300.0,\\n    backward_y1,\\n    [0.0, 0.0],\\n    atol=1e-3,\\n    rtol=1e-3,\\n    integrator=\"odeint\",\\n    method=\"rosenbrock4\",\\n    nsteps=100000,\\n)\\n'"
      ]
     },
     "execution_count": 4,
     "metadata": {},
     "output_type": "execute_result"
    }
   ],
   "source": [
    "from pyodesys.symbolic import SymbolicSys\n",
    "from typing import Callable, Any\n",
    "\n",
    "# Forward\n",
    "forward_sys = SymbolicSys.from_callback(fibrosis_ode, 4, 2)\n",
    "\n",
    "\"\"\"\n",
    "forward_result = forward_sys.integrate(\n",
    "    300.0,\n",
    "    [1e6, 1e6, 0.0, 0.0],\n",
    "    [0.0, 0.0],\n",
    "    atol=1e-3,\n",
    "    rtol=1e-3,\n",
    "    integrator=\"odeint\",\n",
    "    method=\"rosenbrock4\",\n",
    "    nsteps=1000,\n",
    ")\n",
    "\"\"\"\n",
    "\n",
    "# Adjoint\n",
    "def make_backward(f: Callable, num_states: int, num_controls: int):\n",
    "    y = sympy.IndexedBase(\"y\", shape=(num_states,), real=True)\n",
    "    u = sympy.IndexedBase(\"u\", shape=(num_controls,), real=True)\n",
    "    a = sympy.IndexedBase(\"a\", shape=(num_states,), real=True)\n",
    "    l = sympy.IndexedBase(\"l\", shape=(num_controls,), real=True)\n",
    "\n",
    "    y_vec = sympy.Matrix([y[i] for i in range(num_states)])\n",
    "    u_vec = sympy.Matrix([u[i] for i in range(num_controls)])\n",
    "    a_vec = sympy.Matrix([a[i] for i in range(num_states)])\n",
    "\n",
    "    sympy_ode = -sympy.Matrix(f(None, y, u))\n",
    "    sympy_ode_jacobian = sympy_ode.jacobian(y_vec)\n",
    "    sympy_ode_grad = sympy_ode.jacobian(u_vec)\n",
    "\n",
    "    sympy_da_dt = -a_vec.T * sympy_ode_jacobian\n",
    "    sympy_dl_du = -a_vec.T * sympy_ode_grad\n",
    "\n",
    "    backward_ode = []\n",
    "    backward_ode.extend([sympy_ode[i] for i in range(num_states)])  # ODE\n",
    "    backward_ode.extend([sympy_da_dt[i] for i in range(num_states)])  # Adjoint\n",
    "    backward_ode.extend([sympy_dl_du[i] for i in range(num_controls)])  # Sensitivities\n",
    "    backward_ode = sympy.Matrix(backward_ode)\n",
    "\n",
    "    dependents = []\n",
    "    dependents.extend([y[i] for i in range(num_states)])  # ODE\n",
    "    dependents.extend([a[i] for i in range(num_states)])  # Adjoint\n",
    "    dependents.extend([l[i] for i in range(num_controls)])  # Sensitivities\n",
    "    dependents = sympy.Matrix(dependents)\n",
    "\n",
    "    return dependents, backward_ode, u_vec\n",
    "\n",
    "\n",
    "dependents, expressions, controls = make_backward(fibrosis_ode, 4, 2)\n",
    "backward_sys = SymbolicSys(zip(dependents, expressions), params=controls)\n",
    "\n",
    "\"\"\"\n",
    "backward_y1 = []\n",
    "backward_y1.extend(forward_result.at(300.0)[0])  # ODE\n",
    "backward_y1.extend([1.0, 1.0, 0.0, 0.0])  # Adjoint\n",
    "backward_y1.extend([0.0, 0.0])  # Sensitivities\n",
    "\n",
    "backward_result = backward_sys.integrate(\n",
    "    300.0,\n",
    "    backward_y1,\n",
    "    [0.0, 0.0],\n",
    "    atol=1e-3,\n",
    "    rtol=1e-3,\n",
    "    integrator=\"odeint\",\n",
    "    method=\"rosenbrock4\",\n",
    "    nsteps=100000,\n",
    ")\n",
    "\"\"\"\n"
   ]
  },
  {
   "cell_type": "code",
   "execution_count": null,
   "metadata": {},
   "outputs": [],
   "source": [
    "from pyodesys.native import native_sys\n",
    "\n",
    "# Forward\n",
    "forward_sys = native_sys['odeint'].from_other(forward_sys)\n",
    "forward_result = forward_sys.integrate(\n",
    "    300.0,\n",
    "    [1e6, 1e6, 0.0, 0.0],\n",
    "    [0.0, 0.0],\n",
    "    atol=1e-3,\n",
    "    rtol=1e-3,\n",
    "    integrator=\"odeint\",\n",
    "    method=\"rosenbrock4\",\n",
    "    nsteps=1000,\n",
    ")\n",
    "\n",
    "# Backward\n",
    "backward_sys = native_sys['odeint'].from_other(backward_sys)\n",
    "\n",
    "backward_y1 = []\n",
    "backward_y1.extend(forward_result.at(300.0)[0])  # ODE\n",
    "backward_y1.extend([1.0, 1.0, 0.0, 0.0])  # Adjoint\n",
    "backward_y1.extend([0.0, 0.0])  # Sensitivities\n",
    "\n",
    "backward_result = backward_sys.integrate(\n",
    "    300.0,\n",
    "    backward_y1,\n",
    "    [0.0, 0.0],\n",
    "    atol=1e-3,\n",
    "    rtol=1e-3,\n",
    "    integrator=\"odeint\",\n",
    "    method=\"rosenbrock4\",\n",
    "    nsteps=100000,\n",
    ")"
   ]
  },
  {
   "cell_type": "code",
   "execution_count": null,
   "metadata": {},
   "outputs": [],
   "source": [
    "forward_result.plot()\n",
    "backward_result.plot()"
   ]
  },
  {
   "cell_type": "code",
   "execution_count": 6,
   "metadata": {},
   "outputs": [],
   "source": [
    "# Native forward benchmark\n",
    "from pyodesys.native import native_sys\n",
    "\n",
    "n = 2**16\n",
    "forward_sys = native_sys['odeint'].from_other(forward_sys)"
   ]
  },
  {
   "cell_type": "code",
   "execution_count": 7,
   "metadata": {},
   "outputs": [
    {
     "name": "stderr",
     "output_type": "stream",
     "text": [
      "INFO:pyodesys.native._base:In \"/tmp/tmp0n5q1oio_pycodeexport_pyodesys_NativeOdeintCode\", executing:\n",
      "\"/usr/bin/g++ -c -std=c++11 -Wall -Wextra -fPIC -O2 -fopenmp -o ./odesys_anyode.o -I/home/lena/python-optimal-control-env/lib/python3.8/site-packages/numpy/core/include -I/home/lena/python-optimal-control-env/lib/python3.8/site-packages/pyodesys/native/sources -I/home/lena/python-optimal-control-env/lib/python3.8/site-packages/pyodeint/include odesys_anyode.cpp\"\n",
      "INFO:pyodesys.native._base:In \"/tmp/tmp0n5q1oio_pycodeexport_pyodesys_NativeOdeintCode\", executing:\n",
      "\"/usr/bin/g++ -pthread -shared -std=c++11 -Wall -Wextra -fPIC -O2 -fopenmp -o /tmp/tmp0n5q1oio_pycodeexport_pyodesys_NativeOdeintCode/_odeint_wrapper.cpython-38-x86_64-linux-gnu.so -I/home/lena/python-optimal-control-env/lib/python3.8/site-packages/numpy/core/include -I/home/lena/python-optimal-control-env/lib/python3.8/site-packages/pyodesys/native/sources -I/home/lena/python-optimal-control-env/lib/python3.8/site-packages/pyodeint/include odesys_anyode.o _odeint_wrapper.o -lm -lpython3.8\"\n"
     ]
    }
   ],
   "source": [
    "forward_result = forward_sys.integrate(\n",
    "    [[0.0, 300.0]]*n,\n",
    "    [[1e6, 1e6, 0.0, 0.0]]*n,\n",
    "    [[0.0, 0.0]]*n,\n",
    "    atol=1e-4,\n",
    "    rtol=1e-4,\n",
    "    integrator=\"odeint\",\n",
    "    method=\"rosenbrock4\",\n",
    "    nsteps=1000,\n",
    ")"
   ]
  },
  {
   "cell_type": "code",
   "execution_count": 101,
   "metadata": {},
   "outputs": [
    {
     "data": {
      "text/plain": [
       "<Axes: >"
      ]
     },
     "execution_count": 101,
     "metadata": {},
     "output_type": "execute_result"
    },
    {
     "data": {
      "image/png": "[encoded data removed]",
      "text/plain": [
       "<Figure size 640x480 with 1 Axes>"
      ]
     },
     "metadata": {},
     "output_type": "display_data"
    }
   ],
   "source": [
    "forward_result[1].plot()"
   ]
  },
  {
   "attachments": {},
   "cell_type": "markdown",
   "metadata": {},
   "source": [
    "# Misc. tests"
   ]
  },
  {
   "cell_type": "code",
   "execution_count": null,
   "metadata": {},
   "outputs": [],
   "source": [
    "x, y, z = sympy.symbols(\"x y z\")\n",
    "sigma, rho, beta = sympy.symbols(\"sigma rho beta\")\n",
    "\n",
    "def f(x, y, z, sigma, rho, beta):\n",
    "    dx = sigma * (y - x)\n",
    "    dy = x * (rho - z) - y\n",
    "    dz = x * y - beta * z\n",
    "\n",
    "    return dx#, dy, dz\n",
    "\n",
    "sympy_f = f(x, y, z, sigma, rho, beta)\n",
    "sympy_df_dsigma = sympy.diff(sympy_f, sigma)\n",
    "\n",
    "sympy.ccode(sympy_df_dsigma, standard=\"c11\")"
   ]
  },
  {
   "cell_type": "code",
   "execution_count": null,
   "metadata": {},
   "outputs": [],
   "source": [
    "x = sympy.IndexedBase(\"x\")\n",
    "k = sympy.IndexedBase(\"k\")\n",
    "\n",
    "def f(x, k):\n",
    "    x, y, z = x[0], x[1], x[2]\n",
    "    sigma, rho, beta = k[0], k[1], k[2]\n",
    "\n",
    "    dx = sigma * (y - x)\n",
    "    dy = x * (rho - z) - y\n",
    "    dz = x * y - beta * z\n",
    "\n",
    "    return sympy.Matrix([dx, dy, dz])\n",
    "\n",
    "sympy_f = f(x, k)\n",
    "m = sympy_f.jacobian(sympy.Matrix([x[0], x[1], x[2]]))"
   ]
  },
  {
   "cell_type": "code",
   "execution_count": null,
   "metadata": {},
   "outputs": [],
   "source": [
    "sympy.ccode(m, standard=\"c11\")"
   ]
  }
 ],
 "metadata": {
  "kernelspec": {
   "display_name": "python-optimal-control-env",
   "language": "python",
   "name": "python3"
  },
  "language_info": {
   "codemirror_mode": {
    "name": "ipython",
    "version": 3
   },
   "file_extension": ".py",
   "mimetype": "text/x-python",
   "name": "python",
   "nbconvert_exporter": "python",
   "pygments_lexer": "ipython3",
   "version": "3.8.10"
  },
  "orig_nbformat": 4
 },
 "nbformat": 4,
 "nbformat_minor": 2
}
