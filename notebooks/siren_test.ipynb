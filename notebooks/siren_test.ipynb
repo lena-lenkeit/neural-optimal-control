{
 "cells": [
  {
   "cell_type": "code",
   "execution_count": null,
   "metadata": {},
   "outputs": [],
   "source": [
    "import diffrax\n",
    "import equinox as eqx\n",
    "import imageio.v3 as iio\n",
    "import jax\n",
    "import jax.numpy as jnp\n",
    "import matplotlib.pyplot as plt\n",
    "import numpy as np\n",
    "import optax\n",
    "from tqdm.auto import trange\n",
    "\n",
    "import optimal_control.constraints as constraints\n",
    "import optimal_control.controls as controls\n",
    "import optimal_control.environments.examples as examples\n",
    "import optimal_control.solvers as solvers\n",
    "import optimal_control.trainers as trainers"
   ]
  },
  {
   "attachments": {},
   "cell_type": "markdown",
   "metadata": {},
   "source": [
    "# As a constrained control in a training run"
   ]
  },
  {
   "cell_type": "code",
   "execution_count": null,
   "metadata": {},
   "outputs": [],
   "source": []
  },
  {
   "attachments": {},
   "cell_type": "markdown",
   "metadata": {},
   "source": [
    "# As a control with constraints"
   ]
  },
  {
   "cell_type": "code",
   "execution_count": null,
   "metadata": {},
   "outputs": [],
   "source": [
    "key = jax.random.PRNGKey(1234)\n",
    "control = controls.ImplicitControl(controls.Siren(1, 2, 256, 4, key), 0.0, 1.0)\n",
    "constraint = constraints.NonNegativeConstantIntegralConstraint(jnp.asarray([1.0, 2.0]))\n",
    "\n",
    "constrained_control = constraint.transform_continuous(control)\n",
    "\n",
    "t = jnp.linspace(0.0, 1.0, 1024).reshape(-1, 1)\n",
    "signal = jax.vmap(control)(t)\n",
    "\n",
    "constrained_signal1 = jax.vmap(constrained_control)(t)\n",
    "constrained_signal2 = constraint.transform(signal) * 1024\n",
    "\n",
    "fig, ax = plt.subplots(3, 1, sharex=True)\n",
    "ax[0].plot(t, signal)\n",
    "ax[1].plot(t, constrained_signal1)\n",
    "ax[2].plot(t, constrained_signal2)\n",
    "plt.show()"
   ]
  },
  {
   "attachments": {},
   "cell_type": "markdown",
   "metadata": {},
   "source": [
    "# Fit an image"
   ]
  },
  {
   "cell_type": "code",
   "execution_count": null,
   "metadata": {},
   "outputs": [],
   "source": [
    "# Load image\n",
    "\n",
    "image = iio.imread(\"../data/testpattern.png\")\n",
    "\n",
    "plt.figure()\n",
    "plt.imshow(image, origin=\"upper\")\n",
    "plt.show()\n",
    "\n",
    "# Convert to suitable format\n",
    "data = image\n",
    "data = data.reshape(-1, 3)\n",
    "data = (data.astype(np.float32) / 255.0) * 2 - 1"
   ]
  },
  {
   "cell_type": "code",
   "execution_count": null,
   "metadata": {},
   "outputs": [],
   "source": [
    "# Prepare network\n",
    "\n",
    "coords = jnp.stack(\n",
    "    jnp.meshgrid(\n",
    "        jnp.linspace(-1.0, 1.0, image.shape[0]), jnp.linspace(-1.0, 1.0, image.shape[1])\n",
    "    ),\n",
    "    axis=-1,\n",
    ").reshape(-1, 2)\n",
    "\n",
    "key = jax.random.PRNGKey(1234)\n",
    "siren_net = controls.Siren(2, 3, 256, 4, key)\n",
    "\n",
    "optimizer = optax.adam(learning_rate=1e-3)\n",
    "opt_state = optimizer.init(eqx.partition(siren_net, eqx.is_array)[0])"
   ]
  },
  {
   "cell_type": "code",
   "execution_count": null,
   "metadata": {},
   "outputs": [],
   "source": [
    "# Train\n",
    "\n",
    "@eqx.filter_value_and_grad\n",
    "def loss_fn(model, x, y):\n",
    "    return jnp.mean(jnp.square(y - jax.vmap(model)(x)))\n",
    "\n",
    "for i in trange(64):\n",
    "    loss, grads = loss_fn(siren_net, coords, data)\n",
    "\n",
    "    params, static = eqx.partition(siren_net, eqx.is_array)\n",
    "    updates, opt_state = optimizer.update(grads, opt_state, params)\n",
    "    params = optax.apply_updates(params, updates)\n",
    "\n",
    "    siren_net = eqx.combine(params, static)"
   ]
  },
  {
   "cell_type": "code",
   "execution_count": null,
   "metadata": {},
   "outputs": [],
   "source": [
    "# Evaluate\n",
    "\n",
    "pred_data = jax.vmap(siren_net)(coords)\n",
    "\n",
    "plt.figure()\n",
    "plt.imshow(pred_data.reshape(*image.shape) * 0.5 + 0.5)\n",
    "plt.show()"
   ]
  }
 ],
 "metadata": {
  "kernelspec": {
   "display_name": "python-optimal-control-env",
   "language": "python",
   "name": "python3"
  },
  "language_info": {
   "codemirror_mode": {
    "name": "ipython",
    "version": 3
   },
   "file_extension": ".py",
   "mimetype": "text/x-python",
   "name": "python",
   "nbconvert_exporter": "python",
   "pygments_lexer": "ipython3",
   "version": "3.8.10"
  },
  "orig_nbformat": 4
 },
 "nbformat": 4,
 "nbformat_minor": 2
}
