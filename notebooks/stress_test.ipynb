{
 "cells": [
  {
   "cell_type": "code",
   "execution_count": null,
   "metadata": {},
   "outputs": [],
   "source": [
    "import jax\n",
    "import jax.numpy as jnp\n",
    "\n",
    "jax.config.update(\"jax_platform_name\", \"cpu\")\n",
    "jax.config.update(\"jax_enable_x64\", True)\n",
    "\n",
    "import diffrax\n",
    "import matplotlib.pyplot as plt\n",
    "import scipy.io\n",
    "\n",
    "import optimal_control.constraints as constraints\n",
    "import optimal_control.controls as controls\n",
    "import optimal_control.environments.examples as examples"
   ]
  },
  {
   "cell_type": "code",
   "execution_count": null,
   "metadata": {},
   "outputs": [],
   "source": [
    "rep = scipy.io.loadmat(\n",
    "    \"/home/lena/master-thesis/repos/optimal-control/data/Rep_PLE_1_2_3_4_5_6_7_Nf50_mv0_1_0_1_0_1_1_0_1_ct0_I12_s32_Ch1498.mat\"\n",
    ")\n",
    "data = scipy.io.loadmat(\n",
    "    \"/home/lena/master-thesis/repos/optimal-control/data/Repository_data_210919.mat\"\n",
    ")"
   ]
  },
  {
   "cell_type": "code",
   "execution_count": null,
   "metadata": {},
   "outputs": [],
   "source": [
    "for i, d in enumerate(data[\"couples\"][0, -1]):\n",
    "    print(i, d.shape)"
   ]
  },
  {
   "cell_type": "code",
   "execution_count": null,
   "metadata": {},
   "outputs": [],
   "source": [
    "couple = data[\"couples\"][0, -1]\n",
    "\n",
    "x0_idx = 11\n",
    "k_idx = 9\n",
    "\n",
    "x0 = couple[x0_idx].flatten()\n",
    "k = couple[k_idx].flatten()\n",
    "\n",
    "h_sg_idx = 4\n",
    "k_sg_tha_idx = 5\n",
    "\n",
    "h_sg = k[h_sg_idx]\n",
    "k_sg_tha = k[k_sg_tha_idx]\n",
    "\n",
    "p_eif2a_idx = 1\n",
    "\n",
    "def det_ThaKin_ld_C1_G0_1K_wP_kd_wp_67BF35A2(t, x, args):\n",
    "    k, u = args\n",
    "\n",
    "    # ODE\n",
    "    dx = [None] * 10\n",
    "\n",
    "    u = u(t)\n",
    "    a = [x[1] ** k[4] / (k[5] ** k[4] + x[1] ** k[4])]  # Tr_inh\n",
    "\n",
    "    dx[0] = (\n",
    "        -k[0] * x[0]\n",
    "        - (k[1] * u[0] / (k[2] + u[0]) * x[0] / (k[3] + x[0]))\n",
    "        + k[10] * x[1] * x[3]\n",
    "        + k[11] * x[1]\n",
    "    )  # eIF2a\n",
    "    dx[1] = (\n",
    "        k[0] * x[0]\n",
    "        + (k[1] * u[0] / (k[2] + u[0]) * x[0] / (k[3] + x[0]))\n",
    "        - k[10] * x[1] * x[3]\n",
    "        - k[11] * x[1]\n",
    "    )  # p_eIF2a\n",
    "    dx[2] = k[6] * x[9] - (k[7] * x[2])  # m_GADD34\n",
    "    dx[3] = k[8] * x[2] - (k[9] * x[3])  # GADD34\n",
    "    dx[4] = -k[12] * x[4] * a[0] + (k[13] * x[9])  # Pr_tot\n",
    "    dx[5] = k[12] * x[4] * a[0] - (k[12] * x[5])  # Pr_delay_1\n",
    "    dx[6] = k[12] * x[5] - (k[12] * x[6])  # Pr_delay_2\n",
    "    dx[7] = k[12] * x[6] - (k[12] * x[7])  # Pr_delay_3\n",
    "    dx[8] = k[12] * x[7] - (k[12] * x[8])  # Pr_delay_4\n",
    "    dx[9] = k[12] * x[8] - (k[13] * x[9])  # Pr_delay_5\n",
    "\n",
    "    return jnp.stack(dx, axis=-1)\n",
    "\n",
    "\n",
    "def f_sg(p_eif2a, h_sg, k_sg):\n",
    "    return p_eif2a**h_sg / (k_sg**h_sg + p_eif2a**h_sg)"
   ]
  },
  {
   "cell_type": "code",
   "execution_count": null,
   "metadata": {},
   "outputs": [],
   "source": [
    "def integrate(control: controls.AbstractControl, x0, t1):\n",
    "    terms = diffrax.ODETerm(det_ThaKin_ld_C1_G0_1K_wP_kd_wp_67BF35A2)\n",
    "    solver = diffrax.Kvaerno5()\n",
    "    stepsize_controller = diffrax.PIDController(\n",
    "        rtol=1e-8, atol=1e-8, pcoeff=0.3, icoeff=0.3\n",
    "    )\n",
    "\n",
    "    sol = diffrax.diffeqsolve(\n",
    "        terms=terms,\n",
    "        solver=solver,\n",
    "        t0=0.0,\n",
    "        t1=t1,\n",
    "        dt0=0.1,\n",
    "        y0=x0,\n",
    "        args=(k, control),\n",
    "        saveat=diffrax.SaveAt(ts=jnp.linspace(0.0, t1, 1024)),\n",
    "        stepsize_controller=stepsize_controller,\n",
    "    )\n",
    "\n",
    "    return sol"
   ]
  },
  {
   "cell_type": "code",
   "execution_count": null,
   "metadata": {},
   "outputs": [],
   "source": [
    "control = controls.LambdaControl(lambda t: jnp.full((1,), 0.0))\n",
    "sol = integrate(control, x0, 10*24*60)\n",
    "\n",
    "s0 = sol.ys[-1]"
   ]
  },
  {
   "cell_type": "code",
   "execution_count": null,
   "metadata": {},
   "outputs": [],
   "source": [
    "control = controls.LambdaControl(lambda t: jnp.full((1,), 100.0))\n",
    "sol = integrate(control, s0, 10*60)"
   ]
  },
  {
   "cell_type": "code",
   "execution_count": null,
   "metadata": {},
   "outputs": [],
   "source": [
    "plt.figure()\n",
    "plt.plot(sol.ts, sol.ys)\n",
    "plt.show()\n",
    "\n",
    "plt.figure()\n",
    "plt.plot(sol.ts, f_sg(sol.ys[:, p_eif2a_idx], h_sg, k_sg_tha))\n",
    "plt.show()"
   ]
  }
 ],
 "metadata": {
  "kernelspec": {
   "display_name": "python-optimal-control-env",
   "language": "python",
   "name": "python3"
  },
  "language_info": {
   "codemirror_mode": {
    "name": "ipython",
    "version": 3
   },
   "file_extension": ".py",
   "mimetype": "text/x-python",
   "name": "python",
   "nbconvert_exporter": "python",
   "pygments_lexer": "ipython3",
   "version": "3.8.10"
  },
  "orig_nbformat": 4
 },
 "nbformat": 4,
 "nbformat_minor": 2
}
