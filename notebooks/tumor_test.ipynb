{
 "cells": [
  {
   "cell_type": "code",
   "execution_count": 1,
   "metadata": {},
   "outputs": [],
   "source": [
    "import jax\n",
    "\n",
    "jax.config.update(\"jax_enable_x64\", True)\n",
    "jax.config.update(\"jax_platform_name\", \"cpu\")\n",
    "\n",
    "from typing import Callable\n",
    "\n",
    "import equinox as eqx\n",
    "import jax.numpy as jnp\n",
    "import matplotlib.pyplot as plt\n",
    "import optax\n",
    "from jaxtyping import Array\n",
    "\n",
    "import optimal_control.controls as controls\n",
    "import optimal_control.solvers as solvers\n",
    "import optimal_control.trainers as trainers"
   ]
  },
  {
   "cell_type": "code",
   "execution_count": 2,
   "metadata": {},
   "outputs": [],
   "source": [
    "import diffrax\n",
    "\n",
    "from optimal_control.environments.examples.tumor import tumor_ode\n",
    "\n",
    "diffrax.diffeqsolve(\n",
    "    terms=diffrax.ODETerm(tumor_ode),\n",
    "    solver=diffrax.Dopri5(),\n",
    "    t0=0.0,\n",
    "    t1=1000.0,\n",
    "    dt0=0.1,\n",
    "    y0=jnp.asarray([0.0, 10.0, 100.0]),\n",
    "    saveat=diffrax.SaveAt(dense=True),\n",
    "    stepsize_controller=diffrax.PIDController(rtol=1e-5, atol=1e-5)\n",
    ")"
   ]
  }
 ],
 "metadata": {
  "kernelspec": {
   "display_name": "python39-optimal-control-env",
   "language": "python",
   "name": "python3"
  },
  "language_info": {
   "codemirror_mode": {
    "name": "ipython",
    "version": 3
   },
   "file_extension": ".py",
   "mimetype": "text/x-python",
   "name": "python",
   "nbconvert_exporter": "python",
   "pygments_lexer": "ipython3",
   "version": "3.9.5"
  },
  "orig_nbformat": 4
 },
 "nbformat": 4,
 "nbformat_minor": 2
}
