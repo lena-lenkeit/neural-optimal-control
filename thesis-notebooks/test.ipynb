{
 "cells": [
  {
   "cell_type": "code",
   "execution_count": null,
   "metadata": {},
   "outputs": [],
   "source": [
    "import jax\n",
    "import jax.numpy as jnp\n",
    "\n",
    "jax.config.update(\"jax_platform_name\", \"cpu\")\n",
    "jax.config.update(\"jax_enable_x64\", True)"
   ]
  },
  {
   "cell_type": "code",
   "execution_count": null,
   "metadata": {},
   "outputs": [],
   "source": [
    "import diffrax\n",
    "import matplotlib.pyplot as plt\n",
    "import optax\n",
    "from jaxtyping import Array, PyTree\n",
    "\n",
    "import optimal_control.constraints as constraints\n",
    "import optimal_control.controls as controls\n",
    "import optimal_control.environments.examples as examples\n",
    "import optimal_control.solvers as solvers\n",
    "import optimal_control.trainers as trainers\n",
    "import optimal_control.nn as nn"
   ]
  },
  {
   "cell_type": "code",
   "execution_count": null,
   "metadata": {},
   "outputs": [],
   "source": [
    "curve1 = nn.InterpolationCurve(\"step\", jnp.linspace(0.0, 1.0, 3, endpoint=False).reshape(-1, 1)**2 + 1, jnp.linspace(0.0, 1.0, 4))\n",
    "curve2 = nn.InterpolationCurve(\"linear\", jnp.linspace(0.0, 1.0, 4).reshape(-1, 1)**2 + 1, jnp.linspace(0.0, 1.0, 4))\n",
    "\n",
    "curve3 = nn.InterpolationCurve(\"step\", jnp.linspace(0.0, 1.0, 3, endpoint=False).reshape(-1, 1)**2 + 1, t_start=0.0, t_end=1.0, steps=3)\n",
    "curve4 = nn.InterpolationCurve(\"linear\", jnp.linspace(0.0, 1.0, 4).reshape(-1, 1)**2 + 1, t_start=0.0, t_end=1.0, steps=4)\n",
    "\n",
    "ts = jnp.linspace(-0.5, 1.5, 1024)\n",
    "ys1 = jax.vmap(curve1)(ts)\n",
    "ys2 = jax.vmap(curve2)(ts)\n",
    "ys3 = jax.vmap(curve3)(ts)\n",
    "ys4 = jax.vmap(curve4)(ts)\n",
    "\n",
    "plt.figure()\n",
    "plt.plot(ts, ys1)\n",
    "plt.plot(ts, ys2)\n",
    "plt.plot(ts, ys3, linestyle=\"--\")\n",
    "plt.plot(ts, ys4, linestyle=\"--\")\n",
    "plt.show()"
   ]
  }
 ],
 "metadata": {
  "language_info": {
   "name": "python"
  },
  "orig_nbformat": 4
 },
 "nbformat": 4,
 "nbformat_minor": 2
}
